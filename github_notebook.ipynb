{
 "cells": [
  {
   "cell_type": "markdown",
   "metadata": {},
   "source": [
    "<div style=\"text-align: center;\">\n",
    "    <img src=\"./Datasets/credit-score-image.jpg\" alt=\"Imagen\" />\n",
    "</div>"
   ]
  },
  {
   "cell_type": "markdown",
   "metadata": {},
   "source": [
    "1. 📔 [Github Repositorio](#repository)  \n",
    "2. 📚 [README](#readme)  \n",
    "3. ⚙️ [Cambios en los Notebooks](#changes)"
   ]
  },
  {
   "cell_type": "markdown",
   "metadata": {},
   "source": [
    "<a id=\"repository\"></a>\n",
    "## 1.📔Github Repositorio"
   ]
  },
  {
   "cell_type": "code",
   "execution_count": 16,
   "metadata": {},
   "outputs": [
    {
     "name": "stdout",
     "output_type": "stream",
     "text": [
      "Initialized empty Git repository in C:/Users/aalva/OneDrive - Universidad Rafael Landivar/Universidad/Galileo/2024/Segundo Trimestre/Statical Learning/Ejercicios/Proyecto/Proyecto_Fase_1/.git/\n"
     ]
    }
   ],
   "source": [
    "# Inicia el repositorio\n",
    "!git init"
   ]
  },
  {
   "cell_type": "code",
   "execution_count": 17,
   "metadata": {},
   "outputs": [],
   "source": [
    "# Configurar el nombre de usuario y el correo electrónico\n",
    "!git config --global user.name \"AndreaLaLupe\"\n",
    "!git config --global user.email \"aalvarez2014ig@gmail.com\""
   ]
  },
  {
   "cell_type": "code",
   "execution_count": 18,
   "metadata": {},
   "outputs": [
    {
     "name": "stderr",
     "output_type": "stream",
     "text": [
      "warning: in the working copy of 'Datasets/dataset.csv', LF will be replaced by CRLF the next time Git touches it\n",
      "warning: in the working copy of 'Proyecto_Statical_1.ipynb', LF will be replaced by CRLF the next time Git touches it\n",
      "warning: in the working copy of 'Proyecto_Statical_2.ipynb', LF will be replaced by CRLF the next time Git touches it\n",
      "warning: in the working copy of 'github_notebook.ipynb', LF will be replaced by CRLF the next time Git touches it\n"
     ]
    }
   ],
   "source": [
    "# Agregar todos los archivos al área de preparación\n",
    "!git add ."
   ]
  },
  {
   "cell_type": "code",
   "execution_count": 19,
   "metadata": {},
   "outputs": [
    {
     "name": "stdout",
     "output_type": "stream",
     "text": [
      "[master (root-commit) 58ccf35] Primer commit\n",
      " 7 files changed, 207627 insertions(+)\n",
      " create mode 100644 Datasets/credit-score-image.jpg\n",
      " create mode 100644 Datasets/dataset.csv\n",
      " create mode 100644 Datasets/dataset_new.csv\n",
      " create mode 100644 Fase_1.pdf\n",
      " create mode 100644 Proyecto_Statical_1.ipynb\n",
      " create mode 100644 Proyecto_Statical_2.ipynb\n",
      " create mode 100644 github_notebook.ipynb\n"
     ]
    }
   ],
   "source": [
    "# Hacer el primer commit\n",
    "!git commit -m \"Primer commit\""
   ]
  },
  {
   "cell_type": "code",
   "execution_count": 20,
   "metadata": {},
   "outputs": [],
   "source": [
    "# Agregar el repositorio remoto\n",
    "!git remote add origin https://github.com/AndreaLaLupe/Statical_Learning_Project.git"
   ]
  },
  {
   "cell_type": "code",
   "execution_count": 25,
   "metadata": {},
   "outputs": [
    {
     "name": "stdout",
     "output_type": "stream",
     "text": [
      "Merge made by the 'ort' strategy.\n",
      " README.md | 2 ++\n",
      " 1 file changed, 2 insertions(+)\n",
      " create mode 100644 README.md\n"
     ]
    },
    {
     "name": "stderr",
     "output_type": "stream",
     "text": [
      "From https://github.com/AndreaLaLupe/Statical_Learning_Project\n",
      " * branch            main       -> FETCH_HEAD\n"
     ]
    }
   ],
   "source": [
    "# Traer los cambios (README.md) del repositorio remoto al repositorio local.\n",
    "!git pull origin main --allow-unrelated-histories"
   ]
  },
  {
   "cell_type": "code",
   "execution_count": 26,
   "metadata": {},
   "outputs": [
    {
     "name": "stdout",
     "output_type": "stream",
     "text": [
      "On branch main\n",
      "nothing to commit, working tree clean\n"
     ]
    }
   ],
   "source": [
    "# Agregar y hacer commit de los cambios resueltos\n",
    "!git add .\n",
    "!git commit -m \"Resueltos conflictos después del pull con --allow-unrelated-histories\""
   ]
  },
  {
   "cell_type": "code",
   "execution_count": 27,
   "metadata": {},
   "outputs": [
    {
     "name": "stderr",
     "output_type": "stream",
     "text": [
      "To https://github.com/AndreaLaLupe/Statical_Learning_Project.git\n",
      "   76d4725..c9d2250  main -> main\n"
     ]
    }
   ],
   "source": [
    "# Empujar los cambios al repositorio remoto\n",
    "!git push origin main"
   ]
  },
  {
   "cell_type": "markdown",
   "metadata": {},
   "source": [
    "<a id=\"readme\"></a>\n",
    "## 2.📚README"
   ]
  },
  {
   "cell_type": "code",
   "execution_count": 28,
   "metadata": {},
   "outputs": [
    {
     "name": "stdout",
     "output_type": "stream",
     "text": [
      "[main 524d058] Actualización del archivo README.md\n",
      " 1 file changed, 28 insertions(+), 2 deletions(-)\n"
     ]
    }
   ],
   "source": [
    "#  Agregar y hacer commit de los cambios\n",
    "!git add README.md\n",
    "!git commit -m \"Actualización del archivo README.md\"\n"
   ]
  },
  {
   "cell_type": "code",
   "execution_count": 29,
   "metadata": {},
   "outputs": [
    {
     "name": "stderr",
     "output_type": "stream",
     "text": [
      "To https://github.com/AndreaLaLupe/Statical_Learning_Project.git\n",
      "   c9d2250..524d058  main -> main\n"
     ]
    }
   ],
   "source": [
    "# Empujar los cambios al repositorio remoto\n",
    "!git push origin main"
   ]
  },
  {
   "cell_type": "markdown",
   "metadata": {},
   "source": [
    "<a id=\"changes\"></a>\n",
    "## 3. ⚙️ Cambios en los Notebooks"
   ]
  },
  {
   "cell_type": "code",
   "execution_count": null,
   "metadata": {},
   "outputs": [],
   "source": [
    "# Agregar los cambios\n",
    "!git add ."
   ]
  }
 ],
 "metadata": {
  "kernelspec": {
   "display_name": "base",
   "language": "python",
   "name": "python3"
  },
  "language_info": {
   "codemirror_mode": {
    "name": "ipython",
    "version": 3
   },
   "file_extension": ".py",
   "mimetype": "text/x-python",
   "name": "python",
   "nbconvert_exporter": "python",
   "pygments_lexer": "ipython3",
   "version": "3.11.7"
  }
 },
 "nbformat": 4,
 "nbformat_minor": 2
}
